{
 "cells": [
  {
   "cell_type": "code",
   "execution_count": 49,
   "metadata": {},
   "outputs": [],
   "source": [
    "from gym_match3.envs import Match3Env\n",
    "import gym\n",
    "import matplotlib.pyplot as plt\n",
    "# import pickle\n",
    "from matplotlib import style\n",
    "import numpy as np\n",
    "#from gym_match3.envs.levels import Match3Levels, Level\n",
    "env = Match3Env()\n",
    "obs, reward, done, info = env.step(0) \n",
    "import torch\n",
    "import cv2\n",
    "from PIL import Image"
   ]
  },
  {
   "cell_type": "code",
   "execution_count": null,
   "metadata": {
    "scrolled": true
   },
   "outputs": [],
   "source": [
    "#env = Match3Env() \n",
    "#env.observation_space\n",
    "#env.get_available_actions()   #查看action對應的動作"
   ]
  },
  {
   "cell_type": "code",
   "execution_count": 8,
   "metadata": {},
   "outputs": [],
   "source": [
    "def plot_obs(observation=None):\n",
    "    \n",
    "    d = {0: (255, 255, 255),   #白色\n",
    "     1: (0, 255, 255),      #黃色\n",
    "     2: (0, 0, 255) ,      #紅色\n",
    "     3: (230,224,176) ,   #灰藍色 \n",
    "     4: (0,0,0)}           #黑色    \n",
    "    \n",
    "    \n",
    "    background = np.zeros((8,8,3), dtype=np.uint8) #黑色的背景\n",
    "\n",
    "    for color in range(5):\n",
    "        result = np.where(observation == color)\n",
    "        \n",
    "        listOfCoordinates= list(zip(result[1], result[2]))\n",
    "        \n",
    "        for cord in listOfCoordinates:\n",
    "            background[cord] = d[color]     \n",
    "            \n",
    "    img = Image.fromarray(background, 'RGB')\n",
    "     \n",
    "    \n",
    "    #img = img.resize((500, 800)) \n",
    "    cv2.imshow(\"image\", np.array(img))\n",
    "    \n",
    "    cv2.waitKey(200)"
   ]
  },
  {
   "cell_type": "code",
   "execution_count": 9,
   "metadata": {},
   "outputs": [
    {
     "ename": "NameError",
     "evalue": "name 'Image' is not defined",
     "output_type": "error",
     "traceback": [
      "\u001b[0;31m---------------------------------------------------------------------------\u001b[0m",
      "\u001b[0;31mNameError\u001b[0m                                 Traceback (most recent call last)",
      "\u001b[0;32m<ipython-input-9-4480054f7056>\u001b[0m in \u001b[0;36m<module>\u001b[0;34m\u001b[0m\n\u001b[1;32m      1\u001b[0m \u001b[0menv\u001b[0m \u001b[0;34m=\u001b[0m \u001b[0mMatch3Env\u001b[0m\u001b[0;34m(\u001b[0m\u001b[0;34m)\u001b[0m\u001b[0;34m\u001b[0m\u001b[0;34m\u001b[0m\u001b[0m\n\u001b[1;32m      2\u001b[0m \u001b[0mobs\u001b[0m\u001b[0;34m,\u001b[0m \u001b[0mreward\u001b[0m\u001b[0;34m,\u001b[0m \u001b[0mdone\u001b[0m\u001b[0;34m,\u001b[0m \u001b[0minfo\u001b[0m \u001b[0;34m=\u001b[0m \u001b[0menv\u001b[0m\u001b[0;34m.\u001b[0m\u001b[0mstep\u001b[0m\u001b[0;34m(\u001b[0m\u001b[0;36m36\u001b[0m\u001b[0;34m)\u001b[0m\u001b[0;34m\u001b[0m\u001b[0;34m\u001b[0m\u001b[0m\n\u001b[0;32m----> 3\u001b[0;31m \u001b[0mplot_obs\u001b[0m\u001b[0;34m(\u001b[0m\u001b[0mobs\u001b[0m\u001b[0;34m)\u001b[0m\u001b[0;34m\u001b[0m\u001b[0;34m\u001b[0m\u001b[0m\n\u001b[0m\u001b[1;32m      4\u001b[0m \u001b[0;34m\u001b[0m\u001b[0m\n\u001b[1;32m      5\u001b[0m \u001b[0mlist\u001b[0m\u001b[0;34m(\u001b[0m\u001b[0menumerate\u001b[0m\u001b[0;34m(\u001b[0m\u001b[0menv\u001b[0m\u001b[0;34m.\u001b[0m\u001b[0mget_available_actions\u001b[0m\u001b[0;34m(\u001b[0m\u001b[0;34m)\u001b[0m\u001b[0;34m)\u001b[0m\u001b[0;34m)\u001b[0m\u001b[0;34m\u001b[0m\u001b[0;34m\u001b[0m\u001b[0m\n",
      "\u001b[0;32m<ipython-input-8-427a99e753c7>\u001b[0m in \u001b[0;36mplot_obs\u001b[0;34m(observation)\u001b[0m\n\u001b[1;32m     18\u001b[0m             \u001b[0mbackground\u001b[0m\u001b[0;34m[\u001b[0m\u001b[0mcord\u001b[0m\u001b[0;34m]\u001b[0m \u001b[0;34m=\u001b[0m \u001b[0md\u001b[0m\u001b[0;34m[\u001b[0m\u001b[0mcolor\u001b[0m\u001b[0;34m]\u001b[0m\u001b[0;34m\u001b[0m\u001b[0;34m\u001b[0m\u001b[0m\n\u001b[1;32m     19\u001b[0m \u001b[0;34m\u001b[0m\u001b[0m\n\u001b[0;32m---> 20\u001b[0;31m     \u001b[0mimg\u001b[0m \u001b[0;34m=\u001b[0m \u001b[0mImage\u001b[0m\u001b[0;34m.\u001b[0m\u001b[0mfromarray\u001b[0m\u001b[0;34m(\u001b[0m\u001b[0mbackground\u001b[0m\u001b[0;34m,\u001b[0m \u001b[0;34m'RGB'\u001b[0m\u001b[0;34m)\u001b[0m\u001b[0;34m\u001b[0m\u001b[0;34m\u001b[0m\u001b[0m\n\u001b[0m\u001b[1;32m     21\u001b[0m \u001b[0;34m\u001b[0m\u001b[0m\n\u001b[1;32m     22\u001b[0m \u001b[0;34m\u001b[0m\u001b[0m\n",
      "\u001b[0;31mNameError\u001b[0m: name 'Image' is not defined"
     ]
    }
   ],
   "source": [
    "\n",
    "env = Match3Env()\n",
    "obs, reward, done, info = env.step(36) \n",
    "#plot_obs(obs)\n",
    "\n",
    "list(enumerate(env.get_available_actions()))"
   ]
  },
  {
   "cell_type": "code",
   "execution_count": 50,
   "metadata": {},
   "outputs": [],
   "source": [
    "def one_hot_encoding(obs):\n",
    "    \n",
    "    obs = obs.reshape(8,8).astype(int)\n",
    "    \n",
    "    grid_onehot = np.zeros(shape=(5, 8, 8))\n",
    "    table = {i:i for i in range(0,5)}\n",
    "    \n",
    "    for i in range(8):\n",
    "        for j in range(8):\n",
    "            grid_element = obs[i][j]\n",
    "            grid_onehot[table[grid_element]][i][j]=1\n",
    "            \n",
    "    return grid_onehot"
   ]
  },
  {
   "cell_type": "code",
   "execution_count": 55,
   "metadata": {},
   "outputs": [],
   "source": [
    "def plot_obs(observation=None):\n",
    "    \n",
    "    d = {0: (255, 255, 255),   #白色\n",
    "     1: (0, 255, 255),      #黃色\n",
    "     2: (0, 0, 255) ,      #紅色\n",
    "     3: (230,224,176) ,   #灰藍色 \n",
    "     4: (0,0,0)}           #黑色    \n",
    "    \n",
    "    \n",
    "    background = np.zeros((8,8,3), dtype=np.uint8) #黑色的背景\n",
    "\n",
    "    for color in range(5):\n",
    "        result = np.where(one_hot_encoding(obs)[color] == 1)\n",
    "        \n",
    "        listOfCoordinates= list(zip(result[0], result[1]))\n",
    "        \n",
    "        for cord in listOfCoordinates:\n",
    "            background[cord] = d[color]     \n",
    "            \n",
    "    img = Image.fromarray(background, 'RGB')\n",
    "     \n",
    "    \n",
    "    #img = img.resize((500, 800)) \n",
    "    cv2.imshow(\"image\", np.array(img))\n",
    "    \n",
    "    cv2.waitKey(200)"
   ]
  },
  {
   "cell_type": "code",
   "execution_count": 56,
   "metadata": {},
   "outputs": [],
   "source": [
    "plot_obs(obs)"
   ]
  },
  {
   "cell_type": "code",
   "execution_count": 61,
   "metadata": {},
   "outputs": [],
   "source": [
    "env = Match3Env()"
   ]
  },
  {
   "cell_type": "code",
   "execution_count": 92,
   "metadata": {},
   "outputs": [
    {
     "data": {
      "text/plain": [
       "frozenset({(0, 0), (1, 0)})"
      ]
     },
     "execution_count": 92,
     "metadata": {},
     "output_type": "execute_result"
    }
   ],
   "source": [
    "env.observation_space\n",
    "env.get_available_actions()[10]"
   ]
  },
  {
   "cell_type": "code",
   "execution_count": 97,
   "metadata": {},
   "outputs": [
    {
     "name": "stdout",
     "output_type": "stream",
     "text": [
      "[[[0. 3. 2. 2. 3. 2. 0. 0.]\n",
      "  [3. 0. 2. 1. 2. 1. 1. 3.]\n",
      "  [4. 2. 0. 2. 0. 4. 3. 2.]\n",
      "  [2. 0. 0. 2. 1. 4. 2. 4.]\n",
      "  [0. 4. 4. 1. 1. 0. 4. 4.]\n",
      "  [1. 2. 0. 0. 4. 1. 1. 3.]\n",
      "  [0. 0. 4. 3. 1. 1. 3. 2.]\n",
      "  [3. 2. 0. 4. 4. 2. 3. 4.]]]\n"
     ]
    },
    {
     "data": {
      "text/plain": [
       "array([[[1., 0., 0., 0., 0., 0., 1., 1.],\n",
       "        [0., 1., 0., 0., 0., 0., 0., 0.],\n",
       "        [0., 0., 1., 0., 1., 0., 0., 0.],\n",
       "        [0., 1., 1., 0., 0., 0., 0., 0.],\n",
       "        [1., 0., 0., 0., 0., 1., 0., 0.],\n",
       "        [0., 0., 1., 1., 0., 0., 0., 0.],\n",
       "        [1., 1., 0., 0., 0., 0., 0., 0.],\n",
       "        [0., 0., 1., 0., 0., 0., 0., 0.]],\n",
       "\n",
       "       [[0., 0., 0., 0., 0., 0., 0., 0.],\n",
       "        [0., 0., 0., 1., 0., 1., 1., 0.],\n",
       "        [0., 0., 0., 0., 0., 0., 0., 0.],\n",
       "        [0., 0., 0., 0., 1., 0., 0., 0.],\n",
       "        [0., 0., 0., 1., 1., 0., 0., 0.],\n",
       "        [1., 0., 0., 0., 0., 1., 1., 0.],\n",
       "        [0., 0., 0., 0., 1., 1., 0., 0.],\n",
       "        [0., 0., 0., 0., 0., 0., 0., 0.]],\n",
       "\n",
       "       [[0., 0., 1., 1., 0., 1., 0., 0.],\n",
       "        [0., 0., 1., 0., 1., 0., 0., 0.],\n",
       "        [0., 1., 0., 1., 0., 0., 0., 1.],\n",
       "        [1., 0., 0., 1., 0., 0., 1., 0.],\n",
       "        [0., 0., 0., 0., 0., 0., 0., 0.],\n",
       "        [0., 1., 0., 0., 0., 0., 0., 0.],\n",
       "        [0., 0., 0., 0., 0., 0., 0., 1.],\n",
       "        [0., 1., 0., 0., 0., 1., 0., 0.]],\n",
       "\n",
       "       [[0., 1., 0., 0., 1., 0., 0., 0.],\n",
       "        [1., 0., 0., 0., 0., 0., 0., 1.],\n",
       "        [0., 0., 0., 0., 0., 0., 1., 0.],\n",
       "        [0., 0., 0., 0., 0., 0., 0., 0.],\n",
       "        [0., 0., 0., 0., 0., 0., 0., 0.],\n",
       "        [0., 0., 0., 0., 0., 0., 0., 1.],\n",
       "        [0., 0., 0., 1., 0., 0., 1., 0.],\n",
       "        [1., 0., 0., 0., 0., 0., 1., 0.]],\n",
       "\n",
       "       [[0., 0., 0., 0., 0., 0., 0., 0.],\n",
       "        [0., 0., 0., 0., 0., 0., 0., 0.],\n",
       "        [1., 0., 0., 0., 0., 1., 0., 0.],\n",
       "        [0., 0., 0., 0., 0., 1., 0., 1.],\n",
       "        [0., 1., 1., 0., 0., 0., 1., 1.],\n",
       "        [0., 0., 0., 0., 1., 0., 0., 0.],\n",
       "        [0., 0., 1., 0., 0., 0., 0., 0.],\n",
       "        [0., 0., 0., 1., 1., 0., 0., 1.]]])"
      ]
     },
     "execution_count": 97,
     "metadata": {},
     "output_type": "execute_result"
    }
   ],
   "source": [
    "\n",
    "obs, reward, done, info = env.step(10) \n",
    "print(obs)\n",
    "\n",
    "one_hot_encoding(obs)"
   ]
  },
  {
   "cell_type": "code",
   "execution_count": 198,
   "metadata": {},
   "outputs": [
    {
     "name": "stdout",
     "output_type": "stream",
     "text": [
      "[[[4 3 4 1 3 2 4 3]\n",
      "  [2 2 0 3 2 3 0 1]\n",
      "  [3 1 2 2 3 4 1 3]\n",
      "  [2 1 2 3 4 1 2 1]\n",
      "  [3 4 3 4 4 1 3 4]\n",
      "  [0 0 1 0 0 3 2 1]\n",
      "  [3 1 0 2 3 0 4 2]\n",
      "  [0 3 0 2 1 3 0 0]]]\n",
      "(5, 8, 8)\n"
     ]
    }
   ],
   "source": [
    "print(obs)\n",
    "temp2 = one_hot_encoding(obs)\n",
    "print(temp2.shape)\n"
   ]
  },
  {
   "cell_type": "code",
   "execution_count": 164,
   "metadata": {},
   "outputs": [
    {
     "ename": "SyntaxError",
     "evalue": "unexpected EOF while parsing (<ipython-input-164-09774013aa23>, line 8)",
     "output_type": "error",
     "traceback": [
      "\u001b[0;36m  File \u001b[0;32m\"<ipython-input-164-09774013aa23>\"\u001b[0;36m, line \u001b[0;32m8\u001b[0m\n\u001b[0;31m    #grid_onehot[0]\u001b[0m\n\u001b[0m                   ^\u001b[0m\n\u001b[0;31mSyntaxError\u001b[0m\u001b[0;31m:\u001b[0m unexpected EOF while parsing\n"
     ]
    }
   ],
   "source": [
    "grid_onehot = np.zeros(shape=(5, 8, 8))\n",
    "\n",
    "for i in obs:\n",
    "    for j in i:\n",
    "        \n",
    "\n",
    "\n",
    "#grid_onehot[0]"
   ]
  },
  {
   "cell_type": "code",
   "execution_count": 11,
   "metadata": {},
   "outputs": [
    {
     "name": "stdout",
     "output_type": "stream",
     "text": [
      "---------------\n",
      "(1, 8, 8)\n",
      "the swap of coordinate is:  [(2, 7), (1, 7)]\n",
      "0\n",
      "---------------\n",
      "(1, 8, 8)\n",
      "the swap of coordinate is:  [(7, 4), (7, 5)]\n",
      "1\n",
      "---------------\n",
      "(1, 8, 8)\n",
      "the swap of coordinate is:  [(1, 5), (2, 5)]\n",
      "2\n",
      "---------------\n",
      "(1, 8, 8)\n",
      "the swap of coordinate is:  [(2, 6), (3, 6)]\n",
      "3\n",
      "---------------\n",
      "(1, 8, 8)\n",
      "the swap of coordinate is:  [(3, 0), (4, 0)]\n",
      "4\n",
      "---------------\n",
      "(1, 8, 8)\n",
      "the swap of coordinate is:  [(6, 3), (6, 2)]\n",
      "5\n",
      "---------------\n",
      "(1, 8, 8)\n",
      "the swap of coordinate is:  [(2, 0), (2, 1)]\n",
      "6\n",
      "---------------\n",
      "(1, 8, 8)\n",
      "the swap of coordinate is:  [(3, 4), (2, 4)]\n",
      "7\n",
      "---------------\n",
      "(1, 8, 8)\n",
      "the swap of coordinate is:  [(4, 6), (3, 6)]\n",
      "8\n",
      "---------------\n",
      "(1, 8, 8)\n",
      "the swap of coordinate is:  [(0, 7), (1, 7)]\n",
      "9\n",
      "---------------\n",
      "(1, 8, 8)\n",
      "the swap of coordinate is:  [(3, 4), (3, 3)]\n",
      "0\n",
      "---------------\n",
      "(1, 8, 8)\n",
      "the swap of coordinate is:  [(5, 6), (5, 7)]\n",
      "1\n",
      "---------------\n",
      "(1, 8, 8)\n",
      "the swap of coordinate is:  [(4, 5), (3, 5)]\n",
      "2\n",
      "---------------\n",
      "(1, 8, 8)\n",
      "the swap of coordinate is:  [(3, 7), (3, 6)]\n",
      "3\n",
      "---------------\n",
      "(1, 8, 8)\n",
      "the swap of coordinate is:  [(3, 0), (4, 0)]\n",
      "4\n",
      "---------------\n",
      "(1, 8, 8)\n",
      "the swap of coordinate is:  [(7, 6), (7, 5)]\n",
      "5\n",
      "---------------\n",
      "(1, 8, 8)\n",
      "the swap of coordinate is:  [(5, 1), (6, 1)]\n",
      "6\n",
      "---------------\n",
      "(1, 8, 8)\n",
      "the swap of coordinate is:  [(4, 2), (4, 3)]\n",
      "7\n",
      "---------------\n",
      "(1, 8, 8)\n",
      "the swap of coordinate is:  [(5, 6), (4, 6)]\n",
      "8\n",
      "---------------\n",
      "(1, 8, 8)\n",
      "the swap of coordinate is:  [(1, 1), (2, 1)]\n",
      "9\n"
     ]
    }
   ],
   "source": [
    "from gym_match3.envs import Match3Env\n",
    "import gym\n",
    "from PIL import Image\n",
    "import cv2\n",
    "import numpy as np\n",
    "   \n",
    "\n",
    "\n",
    "env = Match3Env() \n",
    "for i_episode in range(2): #玩一次遊戲\n",
    "\n",
    "    \n",
    "    for t in range(10):  #做10個 action\n",
    "        \n",
    "        action = env.action_space.sample()\n",
    "        \n",
    "        print('---------------')\n",
    "\n",
    "        \n",
    "        observation, reward, done, info = env.step(action)\n",
    " \n",
    "        print(observation.shape)\n",
    "\n",
    "        #plot_obs(observation)\n",
    "        \n",
    "        print('the swap of coordinate is: ',list(env.get_available_actions()[action]))\n",
    "        #print('reward:', reward)\n",
    "        print(t)\n",
    "        if done:\n",
    "            print(\"Episode finished after {} timesteps\".format(t+1))\n",
    "            break\n",
    "env.close()"
   ]
  },
  {
   "cell_type": "code",
   "execution_count": null,
   "metadata": {},
   "outputs": [],
   "source": []
  }
 ],
 "metadata": {
  "kernelspec": {
   "display_name": "Python 3",
   "language": "python",
   "name": "python3"
  },
  "language_info": {
   "codemirror_mode": {
    "name": "ipython",
    "version": 3
   },
   "file_extension": ".py",
   "mimetype": "text/x-python",
   "name": "python",
   "nbconvert_exporter": "python",
   "pygments_lexer": "ipython3",
   "version": "3.7.6"
  }
 },
 "nbformat": 4,
 "nbformat_minor": 4
}
