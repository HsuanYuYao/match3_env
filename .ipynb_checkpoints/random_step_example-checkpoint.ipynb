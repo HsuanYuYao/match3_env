{
 "cells": [
  {
   "cell_type": "code",
   "execution_count": 23,
   "metadata": {},
   "outputs": [],
   "source": [
    "from gym_match3.envs import Match3Env\n",
    "import gym\n",
    "import matplotlib.pyplot as plt\n",
    "# import pickle\n",
    "from matplotlib import style\n",
    "#from gym_match3.envs.levels import Match3Levels, Level\n",
    "env = Match3Env()\n",
    "obs, reward, done, info = env.step(0) "
   ]
  },
  {
   "cell_type": "code",
   "execution_count": null,
   "metadata": {
    "scrolled": true
   },
   "outputs": [],
   "source": [
    "#env = Match3Env() \n",
    "#env.observation_space\n",
    "#env.get_available_actions()   #查看action對應的動作"
   ]
  },
  {
   "cell_type": "code",
   "execution_count": 27,
   "metadata": {},
   "outputs": [],
   "source": [
    "def plot_obs(observation=None):\n",
    "    \n",
    "    d = {0: (255, 255, 255),   #白色\n",
    "     1: (0, 255, 255),      #黃色\n",
    "     2: (0, 0, 255) ,      #紅色\n",
    "     3: (230,224,176) ,   #灰藍色 \n",
    "     4: (0,0,0)}           #黑色    \n",
    "    \n",
    "    \n",
    "    background = np.zeros((8,8,3), dtype=np.uint8) #黑色的背景\n",
    "\n",
    "    for color in range(5):\n",
    "        result = np.where(observation == color)\n",
    "        \n",
    "        listOfCoordinates= list(zip(result[1], result[2]))\n",
    "        \n",
    "        for cord in listOfCoordinates:\n",
    "            background[cord] = d[color]     \n",
    "            \n",
    "    img = Image.fromarray(background, 'RGB')\n",
    "     \n",
    "    \n",
    "    #img = img.resize((500, 800)) \n",
    "    cv2.imshow(\"image\", np.array(img))\n",
    "    \n",
    "    cv2.waitKey(200)"
   ]
  },
  {
   "cell_type": "code",
   "execution_count": 31,
   "metadata": {},
   "outputs": [
    {
     "name": "stdout",
     "output_type": "stream",
     "text": [
      "---------------\n",
      "the swap of coordinate is:  [(4, 2), (4, 3)]\n",
      "---------------\n",
      "the swap of coordinate is:  [(5, 4), (5, 5)]\n",
      "---------------\n",
      "the swap of coordinate is:  [(3, 6), (3, 5)]\n",
      "---------------\n",
      "the swap of coordinate is:  [(4, 1), (4, 0)]\n",
      "---------------\n",
      "the swap of coordinate is:  [(7, 6), (7, 7)]\n",
      "---------------\n",
      "the swap of coordinate is:  [(5, 7), (6, 7)]\n",
      "---------------\n",
      "the swap of coordinate is:  [(6, 4), (5, 4)]\n",
      "---------------\n",
      "the swap of coordinate is:  [(4, 2), (5, 2)]\n",
      "---------------\n",
      "the swap of coordinate is:  [(3, 0), (2, 0)]\n",
      "---------------\n",
      "the swap of coordinate is:  [(3, 7), (4, 7)]\n"
     ]
    }
   ],
   "source": [
    "from gym_match3.envs import Match3Env\n",
    "import gym\n",
    "from PIL import Image\n",
    "import cv2\n",
    "import numpy as np\n",
    "\n",
    "d = {0: (255, 255, 255),   #白色\n",
    "     1: (0, 255, 255),      #黃色\n",
    "     2: (0, 0, 255) ,      #紅色\n",
    "     3: (230,224,176) ,   #灰藍色 \n",
    "     4: (0,0,0)}           #黑色    \n",
    "\n",
    "\n",
    "env = Match3Env() \n",
    "for i_episode in range(1): #玩一次遊戲\n",
    "    observation = env.reset()\n",
    "    \n",
    "    for t in range(10):  #做10個 action\n",
    "        \n",
    "        action = env.action_space.sample()\n",
    "        \n",
    "        print('---------------')\n",
    "\n",
    "        \n",
    "        observation, reward, done, info = env.step(action)\n",
    " \n",
    "        #print(observation)\n",
    "\n",
    "        plot_obs(observation)\n",
    "        \n",
    "        print('the swap of coordinate is: ',list(env.get_available_actions()[action]))\n",
    "        #print('reward:', reward)\n",
    "        \n",
    "        if done:\n",
    "            print(\"Episode finished after {} timesteps\".format(t+1))\n",
    "            break\n",
    "env.close()"
   ]
  }
 ],
 "metadata": {
  "kernelspec": {
   "display_name": "Python 3",
   "language": "python",
   "name": "python3"
  },
  "language_info": {
   "codemirror_mode": {
    "name": "ipython",
    "version": 3
   },
   "file_extension": ".py",
   "mimetype": "text/x-python",
   "name": "python",
   "nbconvert_exporter": "python",
   "pygments_lexer": "ipython3",
   "version": "3.7.6"
  }
 },
 "nbformat": 4,
 "nbformat_minor": 4
}
