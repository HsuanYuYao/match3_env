{
 "cells": [
  {
   "cell_type": "code",
   "execution_count": 9,
   "metadata": {},
   "outputs": [],
   "source": [
    "from gym_match3.envs import Match3Env\n",
    "import gym\n",
    "env = Match3Env()\n",
    "obs, reward, done, info = env.step(0) "
   ]
  },
  {
   "cell_type": "code",
   "execution_count": 10,
   "metadata": {},
   "outputs": [
    {
     "name": "stdout",
     "output_type": "stream",
     "text": [
      "[[4. 3. 0. 2. 2. 0. 0. 4.]\n",
      " [3. 2. 3. 2. 0. 1. 2. 1.]\n",
      " [0. 2. 4. 0. 2. 0. 2. 3.]\n",
      " [4. 1. 0. 2. 4. 2. 4. 3.]\n",
      " [3. 1. 0. 3. 1. 4. 0. 4.]]\n",
      "action:  2\n",
      "reward: 3\n",
      "[[0. 3. 1. 2. 2. 0. 0. 4.]\n",
      " [4. 2. 0. 2. 0. 1. 2. 1.]\n",
      " [0. 2. 4. 0. 2. 0. 2. 3.]\n",
      " [4. 1. 0. 2. 4. 2. 4. 3.]\n",
      " [3. 1. 0. 3. 1. 4. 0. 4.]]\n",
      "action:  51\n",
      "reward: -1\n",
      "[[0. 3. 1. 2. 2. 0. 0. 4.]\n",
      " [4. 2. 0. 2. 0. 0. 2. 1.]\n",
      " [0. 2. 4. 0. 2. 1. 2. 3.]\n",
      " [4. 1. 0. 2. 4. 2. 4. 3.]\n",
      " [3. 1. 0. 3. 1. 4. 0. 4.]]\n",
      "action:  32\n",
      "reward: -1\n",
      "[[0. 3. 1. 2. 2. 0. 0. 4.]\n",
      " [4. 2. 0. 2. 0. 0. 2. 1.]\n",
      " [0. 2. 4. 0. 1. 2. 2. 3.]\n",
      " [4. 1. 0. 2. 4. 2. 4. 3.]\n",
      " [3. 1. 0. 3. 1. 4. 0. 4.]]\n",
      "action:  54\n",
      "reward: -1\n",
      "[[0. 3. 1. 2. 2. 0. 0. 1.]\n",
      " [4. 2. 0. 2. 0. 0. 2. 4.]\n",
      " [0. 2. 4. 0. 1. 2. 2. 3.]\n",
      " [4. 1. 0. 2. 4. 2. 4. 3.]\n",
      " [3. 1. 0. 3. 1. 4. 0. 4.]]\n",
      "action:  0\n",
      "reward: -1\n",
      "[[0. 1. 3. 2. 2. 0. 0. 1.]\n",
      " [4. 2. 0. 2. 0. 0. 2. 4.]\n",
      " [0. 2. 4. 0. 1. 2. 2. 3.]\n",
      " [4. 1. 0. 2. 4. 2. 4. 3.]\n",
      " [3. 1. 0. 3. 1. 4. 0. 4.]]\n",
      "action:  38\n",
      "reward: -1\n",
      "[[0. 1. 3. 2. 2. 0. 0. 1.]\n",
      " [4. 2. 0. 2. 0. 0. 2. 4.]\n",
      " [0. 2. 4. 0. 1. 2. 2. 3.]\n",
      " [4. 1. 0. 2. 4. 2. 4. 3.]\n",
      " [3. 1. 0. 3. 1. 4. 0. 4.]]\n",
      "action:  19\n",
      "reward: -1\n",
      "[[0. 1. 3. 2. 2. 0. 0. 1.]\n",
      " [4. 2. 0. 2. 0. 0. 2. 4.]\n",
      " [0. 4. 2. 0. 1. 2. 2. 3.]\n",
      " [4. 1. 0. 2. 4. 2. 4. 3.]\n",
      " [3. 1. 0. 3. 1. 4. 0. 4.]]\n",
      "action:  46\n",
      "reward: -1\n",
      "[[0. 1. 3. 2. 2. 0. 0. 1.]\n",
      " [4. 2. 0. 2. 0. 0. 2. 4.]\n",
      " [0. 4. 2. 0. 1. 2. 2. 3.]\n",
      " [4. 1. 0. 2. 4. 2. 4. 3.]\n",
      " [3. 1. 0. 3. 1. 4. 4. 0.]]\n",
      "action:  42\n",
      "reward: 3\n",
      "[[0. 1. 3. 2. 0. 4. 3. 1.]\n",
      " [4. 2. 0. 2. 2. 0. 2. 4.]\n",
      " [0. 4. 2. 0. 1. 2. 2. 3.]\n",
      " [4. 1. 0. 2. 4. 2. 4. 3.]\n",
      " [3. 1. 0. 3. 1. 4. 4. 0.]]\n",
      "action:  56\n",
      "reward: -1\n"
     ]
    }
   ],
   "source": [
    "env = Match3Env() \n",
    "for i_episode in range(1): #玩一次遊戲\n",
    "    observation = env.reset()\n",
    "    for t in range(10):  #做10個 action\n",
    "        print(observation)\n",
    "        action = env.action_space.sample()\n",
    "        print('action: ',action)\n",
    "        observation, reward, done, info = env.step(action)\n",
    "        \n",
    "        print('reward:', reward)\n",
    "        if done:\n",
    "            print(\"Episode finished after {} timesteps\".format(t+1))\n",
    "            break\n",
    "env.close()"
   ]
  },
  {
   "cell_type": "code",
   "execution_count": 12,
   "metadata": {},
   "outputs": [
    {
     "data": {
      "text/plain": [
       "frozenset({(1, 6), (2, 6)})"
      ]
     },
     "execution_count": 12,
     "metadata": {},
     "output_type": "execute_result"
    }
   ],
   "source": [
    "#print(env.get_directions(2))\n",
    "env.get_available_actions()[57]   #查看action對應的動作"
   ]
  }
 ],
 "metadata": {
  "kernelspec": {
   "display_name": "Python 3",
   "language": "python",
   "name": "python3"
  },
  "language_info": {
   "codemirror_mode": {
    "name": "ipython",
    "version": 3
   },
   "file_extension": ".py",
   "mimetype": "text/x-python",
   "name": "python",
   "nbconvert_exporter": "python",
   "pygments_lexer": "ipython3",
   "version": "3.7.6"
  }
 },
 "nbformat": 4,
 "nbformat_minor": 4
}
