{
 "cells": [
  {
   "cell_type": "code",
   "execution_count": 9,
   "metadata": {},
   "outputs": [],
   "source": [
    "from gym_match3.envs import Match3Env\n",
    "import gym\n",
    "env = Match3Env()\n",
    "obs, reward, done, info = env.step(0) "
   ]
  },
  {
   "cell_type": "code",
   "execution_count": 13,
   "metadata": {},
   "outputs": [
    {
     "name": "stdout",
     "output_type": "stream",
     "text": [
      "[[4. 1. 3. 2. 4. 1. 2. 4.]\n",
      " [1. 3. 1. 4. 1. 2. 1. 1.]\n",
      " [4. 0. 3. 0. 1. 3. 4. 4.]\n",
      " [2. 1. 2. 0. 0. 1. 2. 3.]\n",
      " [1. 3. 4. 2. 4. 2. 3. 1.]]\n",
      "action:  60\n",
      "reward: -1\n",
      "[[4. 1. 3. 2. 4. 1. 2. 4.]\n",
      " [1. 3. 1. 4. 1. 2. 1. 1.]\n",
      " [4. 0. 3. 0. 1. 3. 4. 4.]\n",
      " [2. 1. 0. 2. 0. 1. 2. 3.]\n",
      " [1. 3. 4. 2. 4. 2. 3. 1.]]\n",
      "action:  30\n",
      "reward: -1\n",
      "[[4. 1. 3. 2. 4. 1. 2. 4.]\n",
      " [1. 3. 1. 4. 1. 2. 1. 1.]\n",
      " [4. 0. 3. 0. 1. 3. 4. 4.]\n",
      " [2. 1. 0. 2. 0. 1. 2. 3.]\n",
      " [1. 3. 4. 4. 2. 2. 3. 1.]]\n",
      "action:  24\n",
      "reward: -1\n",
      "[[4. 1. 3. 4. 2. 1. 2. 4.]\n",
      " [1. 3. 1. 4. 1. 2. 1. 1.]\n",
      " [4. 0. 3. 0. 1. 3. 4. 4.]\n",
      " [2. 1. 0. 2. 0. 1. 2. 3.]\n",
      " [1. 3. 4. 4. 2. 2. 3. 1.]]\n",
      "action:  2\n",
      "reward: 3\n",
      "[[2. 0. 0. 4. 2. 1. 2. 4.]\n",
      " [4. 3. 3. 4. 1. 2. 1. 1.]\n",
      " [4. 0. 3. 0. 1. 3. 4. 4.]\n",
      " [2. 1. 0. 2. 0. 1. 2. 3.]\n",
      " [1. 3. 4. 4. 2. 2. 3. 1.]]\n",
      "action:  3\n",
      "reward: -1\n",
      "[[2. 0. 0. 4. 2. 1. 2. 4.]\n",
      " [4. 3. 3. 4. 1. 2. 1. 1.]\n",
      " [4. 0. 3. 0. 1. 3. 4. 4.]\n",
      " [2. 1. 0. 2. 0. 2. 1. 3.]\n",
      " [1. 3. 4. 4. 2. 2. 3. 1.]]\n",
      "action:  13\n",
      "reward: -1\n",
      "[[2. 0. 0. 4. 2. 1. 2. 4.]\n",
      " [4. 3. 3. 4. 1. 2. 1. 1.]\n",
      " [4. 0. 0. 3. 1. 3. 4. 4.]\n",
      " [2. 1. 0. 2. 0. 2. 1. 3.]\n",
      " [1. 3. 4. 4. 2. 2. 3. 1.]]\n",
      "action:  40\n",
      "reward: 3\n",
      "[[2. 0. 0. 4. 2. 0. 3. 0.]\n",
      " [4. 3. 3. 4. 2. 1. 2. 4.]\n",
      " [4. 0. 0. 3. 1. 3. 4. 4.]\n",
      " [2. 1. 0. 2. 0. 2. 1. 3.]\n",
      " [1. 3. 4. 4. 2. 2. 3. 1.]]\n",
      "action:  19\n",
      "reward: -1\n",
      "[[2. 0. 0. 4. 2. 0. 3. 0.]\n",
      " [4. 3. 3. 4. 2. 1. 2. 4.]\n",
      " [4. 0. 0. 3. 1. 3. 4. 4.]\n",
      " [2. 1. 0. 2. 0. 2. 1. 3.]\n",
      " [1. 3. 4. 4. 2. 2. 3. 1.]]\n",
      "action:  26\n",
      "reward: -1\n",
      "[[2. 0. 0. 4. 2. 0. 3. 0.]\n",
      " [4. 3. 3. 4. 2. 1. 2. 4.]\n",
      " [4. 0. 0. 3. 1. 3. 4. 4.]\n",
      " [2. 1. 0. 2. 2. 0. 1. 3.]\n",
      " [1. 3. 4. 4. 2. 2. 3. 1.]]\n",
      "action:  66\n",
      "reward: -1\n"
     ]
    }
   ],
   "source": [
    "env = Match3Env() \n",
    "for i_episode in range(1): #玩一次遊戲\n",
    "    observation = env.reset()\n",
    "    for t in range(10):  #做10個 action\n",
    "        print(observation)\n",
    "        action = env.action_space.sample()\n",
    "        print('action: ',action)\n",
    "        observation, reward, done, info = env.step(action)\n",
    "        \n",
    "        print('reward:', reward)\n",
    "        if done:\n",
    "            print(\"Episode finished after {} timesteps\".format(t+1))\n",
    "            break\n",
    "env.close()"
   ]
  },
  {
   "cell_type": "code",
   "execution_count": 17,
   "metadata": {},
   "outputs": [
    {
     "data": {
      "text/plain": [
       "Discrete(67)"
      ]
     },
     "execution_count": 17,
     "metadata": {},
     "output_type": "execute_result"
    }
   ],
   "source": [
    "env.action_space"
   ]
  },
  {
   "cell_type": "code",
   "execution_count": 15,
   "metadata": {},
   "outputs": [
    {
     "data": {
      "text/plain": [
       "[frozenset({(0, 1), (0, 2)}),\n",
       " frozenset({(2, 0), (3, 0)}),\n",
       " frozenset({(0, 1), (1, 1)}),\n",
       " frozenset({(3, 5), (3, 6)}),\n",
       " frozenset({(4, 2), (4, 3)}),\n",
       " frozenset({(1, 5), (1, 6)}),\n",
       " frozenset({(2, 5), (3, 5)}),\n",
       " frozenset({(3, 1), (3, 2)}),\n",
       " frozenset({(3, 3), (4, 3)}),\n",
       " frozenset({(0, 2), (1, 2)}),\n",
       " frozenset({(4, 5), (4, 6)}),\n",
       " frozenset({(2, 4), (3, 4)}),\n",
       " frozenset({(0, 3), (1, 3)}),\n",
       " frozenset({(2, 2), (2, 3)}),\n",
       " frozenset({(0, 2), (0, 3)}),\n",
       " frozenset({(1, 4), (2, 4)}),\n",
       " frozenset({(2, 3), (2, 4)}),\n",
       " frozenset({(0, 5), (1, 5)}),\n",
       " frozenset({(1, 0), (2, 0)}),\n",
       " frozenset({(2, 1), (2, 2)}),\n",
       " frozenset({(2, 2), (3, 2)}),\n",
       " frozenset({(0, 0), (1, 0)}),\n",
       " frozenset({(1, 1), (1, 2)}),\n",
       " frozenset({(2, 5), (2, 6)}),\n",
       " frozenset({(0, 3), (0, 4)}),\n",
       " frozenset({(3, 0), (4, 0)}),\n",
       " frozenset({(3, 4), (3, 5)}),\n",
       " frozenset({(2, 6), (3, 6)}),\n",
       " frozenset({(3, 7), (4, 7)}),\n",
       " frozenset({(4, 1), (4, 2)}),\n",
       " frozenset({(4, 3), (4, 4)}),\n",
       " frozenset({(4, 4), (4, 5)}),\n",
       " frozenset({(2, 4), (2, 5)}),\n",
       " frozenset({(3, 6), (3, 7)}),\n",
       " frozenset({(2, 6), (2, 7)}),\n",
       " frozenset({(1, 7), (2, 7)}),\n",
       " frozenset({(2, 0), (2, 1)}),\n",
       " frozenset({(2, 1), (3, 1)}),\n",
       " frozenset({(2, 7), (3, 7)}),\n",
       " frozenset({(0, 0), (0, 1)}),\n",
       " frozenset({(1, 4), (1, 5)}),\n",
       " frozenset({(3, 4), (4, 4)}),\n",
       " frozenset({(0, 4), (1, 4)}),\n",
       " frozenset({(0, 5), (0, 6)}),\n",
       " frozenset({(1, 2), (1, 3)}),\n",
       " frozenset({(1, 0), (1, 1)}),\n",
       " frozenset({(4, 6), (4, 7)}),\n",
       " frozenset({(1, 1), (2, 1)}),\n",
       " frozenset({(4, 0), (4, 1)}),\n",
       " frozenset({(0, 4), (0, 5)}),\n",
       " frozenset({(1, 2), (2, 2)}),\n",
       " frozenset({(1, 5), (2, 5)}),\n",
       " frozenset({(1, 3), (2, 3)}),\n",
       " frozenset({(1, 3), (1, 4)}),\n",
       " frozenset({(0, 7), (1, 7)}),\n",
       " frozenset({(0, 6), (0, 7)}),\n",
       " frozenset({(0, 6), (1, 6)}),\n",
       " frozenset({(1, 6), (2, 6)}),\n",
       " frozenset({(1, 6), (1, 7)}),\n",
       " frozenset({(3, 0), (3, 1)}),\n",
       " frozenset({(3, 2), (3, 3)}),\n",
       " frozenset({(3, 2), (4, 2)}),\n",
       " frozenset({(3, 5), (4, 5)}),\n",
       " frozenset({(3, 3), (3, 4)}),\n",
       " frozenset({(3, 6), (4, 6)}),\n",
       " frozenset({(2, 3), (3, 3)}),\n",
       " frozenset({(3, 1), (4, 1)})]"
      ]
     },
     "execution_count": 15,
     "metadata": {},
     "output_type": "execute_result"
    }
   ],
   "source": [
    "#print(env.get_directions(2))\n",
    "env.get_available_actions()   #查看action對應的動作"
   ]
  }
 ],
 "metadata": {
  "kernelspec": {
   "display_name": "Python 3",
   "language": "python",
   "name": "python3"
  },
  "language_info": {
   "codemirror_mode": {
    "name": "ipython",
    "version": 3
   },
   "file_extension": ".py",
   "mimetype": "text/x-python",
   "name": "python",
   "nbconvert_exporter": "python",
   "pygments_lexer": "ipython3",
   "version": "3.7.6"
  }
 },
 "nbformat": 4,
 "nbformat_minor": 4
}
